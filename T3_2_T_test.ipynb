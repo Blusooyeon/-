{
  "nbformat": 4,
  "nbformat_minor": 0,
  "metadata": {
    "colab": {
      "provenance": [],
      "authorship_tag": "ABX9TyNCaYUfYT90sIoSxfV1+vR2",
      "include_colab_link": true
    },
    "kernelspec": {
      "name": "python3",
      "display_name": "Python 3"
    },
    "language_info": {
      "name": "python"
    }
  },
  "cells": [
    {
      "cell_type": "markdown",
      "metadata": {
        "id": "view-in-github",
        "colab_type": "text"
      },
      "source": [
        "<a href=\"https://colab.research.google.com/github/Blusooyeon/Studying_for_Bigdata_Test/blob/main/T3_2_T_test.ipynb\" target=\"_parent\"><img src=\"https://colab.research.google.com/assets/colab-badge.svg\" alt=\"Open In Colab\"/></a>"
      ]
    },
    {
      "cell_type": "markdown",
      "source": [
        "####어떤 특정 약물을 복용한 사람들의 평균 체온이 복용하지 않은 사람들의 평균 체온과 유의미하게 다른지 검정해보려고 합니다\n",
        "* 약물을 복용한 그룹과 복용하지 않은 그룹의 체온 데이터가 각각 주어져 있다고 가정합니다.\n",
        "* 각 그룹의 체온은 정규분포를 따른다고 가정합니다.\n",
        "* 검정통계량, p-value, 검정 결과를 출력하시오\n",
        "\n"
      ],
      "metadata": {
        "id": "DHbGA1sWqdTj"
      }
    },
    {
      "cell_type": "code",
      "execution_count": 7,
      "metadata": {
        "id": "xav1teZNp8PQ"
      },
      "outputs": [],
      "source": [
        "from scipy import stats\n",
        "\n",
        "# 데이터 수집\n",
        "group1 = [36.8, 36.7, 37.1, 36.9, 37.2, 36.8, 36.9, 37.1, 36.7, 37.1]\n",
        "group2 = [36.5, 36.6, 36.3, 36.6, 36.9, 36.7, 36.7, 36.8, 36.5, 36.7]"
      ]
    },
    {
      "cell_type": "code",
      "source": [
        "# 가설 검정\n",
        "t_statistic, p_value = stats.ttest_ind(group1, group2)\n",
        "print(\"검정통계량:\", t_statistic)\n",
        "print(\"p-value:\", p_value)"
      ],
      "metadata": {
        "colab": {
          "base_uri": "https://localhost:8080/"
        },
        "id": "ynbko_j7r1bA",
        "outputId": "c0a6d268-5ce2-490d-bc38-d3dc1ddbfc9d"
      },
      "execution_count": 9,
      "outputs": [
        {
          "output_type": "stream",
          "name": "stdout",
          "text": [
            "검정통계량: 3.7964208654863336\n",
            "p-value: 0.001321891476703691\n"
          ]
        }
      ]
    },
    {
      "cell_type": "code",
      "source": [
        "# 유의성 검정 결과 출력하기\n",
        "if p_value < 0.05:\n",
        "  print(\"귀무가설을 기각합니다.약물을 복용한 그룹과 복용하지 않은 그룹의 평균 체온은 유의미한 차이가 있습니다.\")\n",
        "else:\n",
        "    print(\"귀무가설을 채택합니다. 약물을 복용한 그룹과 복용하지 않은 그룹의 평균 체온은 유의미한 차이가 없습니다.\")"
      ],
      "metadata": {
        "colab": {
          "base_uri": "https://localhost:8080/"
        },
        "id": "0lY5u2cyse5I",
        "outputId": "766c09e0-9342-4207-ef86-dcc10951c642"
      },
      "execution_count": 11,
      "outputs": [
        {
          "output_type": "stream",
          "name": "stdout",
          "text": [
            "귀무가설을 기각합니다.약물을 복용한 그룹과 복용하지 않은 그룹의 평균 체온은 유의미한 차이가 있습니다.\n"
          ]
        }
      ]
    }
  ]
}