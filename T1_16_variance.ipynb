{
  "nbformat": 4,
  "nbformat_minor": 0,
  "metadata": {
    "colab": {
      "provenance": [],
      "authorship_tag": "ABX9TyMOw1JsSQBApHExieau8J05",
      "include_colab_link": true
    },
    "kernelspec": {
      "name": "python3",
      "display_name": "Python 3"
    },
    "language_info": {
      "name": "python"
    }
  },
  "cells": [
    {
      "cell_type": "markdown",
      "metadata": {
        "id": "view-in-github",
        "colab_type": "text"
      },
      "source": [
        "<a href=\"https://colab.research.google.com/github/Blusooyeon/Studying_for_Bigdata_Test/blob/main/T1_16_variance.ipynb\" target=\"_parent\"><img src=\"https://colab.research.google.com/assets/colab-badge.svg\" alt=\"Open In Colab\"/></a>"
      ]
    },
    {
      "cell_type": "markdown",
      "source": [
        "주어진 데이터 셋에서 f2가 0값인 데이터를 age를 기준으로 오름차순 정렬하고          \n",
        "앞에서 부터 20개의 데이터를 추출한 후         \n",
        "f1 결측치(최소값)를 채우기 전과 후의 분산 차이를 계산하시오 (소수점 둘째 자리까지)"
      ],
      "metadata": {
        "id": "Gh9R_VUr9tvv"
      }
    },
    {
      "cell_type": "code",
      "execution_count": 1,
      "metadata": {
        "id": "MnfDUPhv9qBO"
      },
      "outputs": [],
      "source": [
        "import numpy as np\n",
        "import pandas as pd\n",
        "\n",
        "df = pd.read_csv('/content/basic2.csv')"
      ]
    },
    {
      "cell_type": "code",
      "source": [
        "# 조건 만족\n",
        "cond = df['f2'] == 0\n",
        "df = df[cond].sort_values('age',ascending=True).reset_index(drop=True)\n",
        "\n",
        "df = df[:20]"
      ],
      "metadata": {
        "id": "gLDyxhXg9_VT"
      },
      "execution_count": 2,
      "outputs": []
    },
    {
      "cell_type": "code",
      "source": [
        "# 결측치를 최솟값으로 채우기 전과 후 의 분산 비교\n",
        "df1 = df['f1'].var()\n",
        "df['f1'] = df['f1'].fillna(df['f1'].min())\n",
        "df2 = df['f1'].var()\n",
        "\n",
        "print(round(df1 - df2,2))"
      ],
      "metadata": {
        "colab": {
          "base_uri": "https://localhost:8080/"
        },
        "id": "dMIv5SJP-Mcf",
        "outputId": "e5cbd405-341b-4d0a-80c1-6a0471318278"
      },
      "execution_count": 3,
      "outputs": [
        {
          "output_type": "stream",
          "name": "stdout",
          "text": [
            "38.44\n"
          ]
        }
      ]
    },
    {
      "cell_type": "markdown",
      "source": [
        "✅check\n",
        "1. 분산 구하기       \n",
        "df['f1'].var()"
      ],
      "metadata": {
        "id": "-SKEYb2m-fM1"
      }
    }
  ]
}