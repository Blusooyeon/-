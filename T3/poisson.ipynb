{
  "nbformat": 4,
  "nbformat_minor": 0,
  "metadata": {
    "colab": {
      "provenance": [],
      "authorship_tag": "ABX9TyOJWnnslPuy87y1z3FEQGJM",
      "include_colab_link": true
    },
    "kernelspec": {
      "name": "python3",
      "display_name": "Python 3"
    },
    "language_info": {
      "name": "python"
    }
  },
  "cells": [
    {
      "cell_type": "markdown",
      "metadata": {
        "id": "view-in-github",
        "colab_type": "text"
      },
      "source": [
        "<a href=\"https://colab.research.google.com/github/Blusooyeon/bigdata-analysist-certificate/blob/main/T3_poisson.ipynb\" target=\"_parent\"><img src=\"https://colab.research.google.com/assets/colab-badge.svg\" alt=\"Open In Colab\"/></a>"
      ]
    },
    {
      "cell_type": "markdown",
      "source": [
        "### 포아송분포\n",
        "문제: 한 서점에서는 평균적으로 하루에 3명의 고객이 특정 잡지를 구매합니다. 이 데이터는 포아송 분포를 따른다고 가정할 때, 다음 질문에 대한 답을 구하세요.\n",
        "\n",
        "* 하루에 정확히 5명의 고객이 잡지를 구매할 확률은 얼마입니까? (%로 값을 정수로 입력하시오)\n",
        "* 하루에 적어도 2명의 고객이 잡지를 구매할 확률은 얼마입니까? (%로 값을 정수로 입력하시오)"
      ],
      "metadata": {
        "id": "NFbQ0fnN6Rf7"
      }
    },
    {
      "cell_type": "code",
      "source": [
        "from scipy.stats import poisson\n",
        "\n",
        "# 주어진평균 발생 횟수\n",
        "lambda_ = 3\n",
        "\n",
        "# 하루에 정확히 5명의 고객이 잡지를 구매할 확률\n",
        "print(poisson.pmf(5,lambda_))"
      ],
      "metadata": {
        "colab": {
          "base_uri": "https://localhost:8080/"
        },
        "id": "k875jEcw8qpn",
        "outputId": "f264e7cb-e0f1-47d2-91ff-2ed0cba5b483"
      },
      "execution_count": 18,
      "outputs": [
        {
          "output_type": "stream",
          "name": "stdout",
          "text": [
            "0.10081881344492458\n"
          ]
        }
      ]
    },
    {
      "cell_type": "code",
      "source": [
        "# 하루에 적어도 2명의 고객이 잡지를 구매할 확률\n",
        "print(1 - poisson.cdf(1, lambda_))"
      ],
      "metadata": {
        "colab": {
          "base_uri": "https://localhost:8080/"
        },
        "id": "Lq89jsNX80Ud",
        "outputId": "b06fbfc9-68f8-4d0f-9ce4-f28a1f6b5518"
      },
      "execution_count": 20,
      "outputs": [
        {
          "output_type": "stream",
          "name": "stdout",
          "text": [
            "0.8008517265285442\n"
          ]
        }
      ]
    }
  ]
}
