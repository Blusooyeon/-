{
  "nbformat": 4,
  "nbformat_minor": 0,
  "metadata": {
    "colab": {
      "provenance": [],
      "authorship_tag": "ABX9TyO0xcQ53j2Du7WIeqmbGZiQ",
      "include_colab_link": true
    },
    "kernelspec": {
      "name": "python3",
      "display_name": "Python 3"
    },
    "language_info": {
      "name": "python"
    }
  },
  "cells": [
    {
      "cell_type": "markdown",
      "metadata": {
        "id": "view-in-github",
        "colab_type": "text"
      },
      "source": [
        "<a href=\"https://colab.research.google.com/github/Blusooyeon/bigdata-analysist-certificate/blob/main/T3_ttest_ANOVA.ipynb\" target=\"_parent\"><img src=\"https://colab.research.google.com/assets/colab-badge.svg\" alt=\"Open In Colab\"/></a>"
      ]
    },
    {
      "cell_type": "markdown",
      "source": [
        "### 문제: 두 교육 방법의 효과 비교\n",
        "연구자는 두 가지 다른 교육 방법이 학생들의 성적에 미치는 영향을 비교하고자 합니다. 연구자는 무작위로 선발된 20명의 학생들을 두 그룹으로 나누어 한 그룹에는 교육 방법 A를, 다른 그룹에는 교육 방법 B를 적용합니다. 교육이 끝난 후, 두 그룹의 성적을 비교하기 위해 독립 표본 t-검정과 ANOVA F-검정을 실시하려고 합니다.\n",
        "\n",
        "다음은 두 그룹의 성적입니다: 다음의 두 가지 검정을 사용하여 두 교육 방법 간의 성적 차이가 통계적으로 유의한지를 검증하세요\n",
        "(반올림하여 소수 셋째 자리까지 계산)            \n",
        "\n",
        "* 독립 표본 t-검정을 실시하여 t 통계량을 구하세요.\n",
        "* 독립 표본 t-검정을 실시하여 p-값을 구하세요.\n",
        "* ANOVA F-검정을 실시하여 F 통계량을 구하세요.\n",
        "* ANOVA F-검정을 실시하여 p-값을 구하세요.\n"
      ],
      "metadata": {
        "id": "NFbQ0fnN6Rf7"
      }
    },
    {
      "cell_type": "code",
      "execution_count": 10,
      "metadata": {
        "id": "5fK6kdvUvOpz"
      },
      "outputs": [],
      "source": [
        "import pandas as pd\n",
        "df = pd.DataFrame({\n",
        "    'A':[77, 75, 82, 80, 81, 83, 84, 76, 75, 87],\n",
        "    'B':[80, 74, 77, 79, 71, 74, 78, 69, 70, 72],\n",
        "})"
      ]
    },
    {
      "cell_type": "code",
      "source": [
        "from scipy import stats\n",
        "print(stats.ttest_ind(df['A'], df['B']))\n",
        "\n",
        "print(stats.f_oneway(df['A'], df['B']))"
      ],
      "metadata": {
        "colab": {
          "base_uri": "https://localhost:8080/"
        },
        "id": "BNQogQJW6eox",
        "outputId": "5597f292-c1ce-47bb-99fd-f1078e5ff554"
      },
      "execution_count": 11,
      "outputs": [
        {
          "output_type": "stream",
          "name": "stdout",
          "text": [
            "TtestResult(statistic=3.1068522301122954, pvalue=0.006087373605949963, df=18.0)\n",
            "F_onewayResult(statistic=9.652530779753763, pvalue=0.006087373605949924)\n"
          ]
        }
      ]
    }
  ]
}