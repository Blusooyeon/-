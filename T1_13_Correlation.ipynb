{
  "nbformat": 4,
  "nbformat_minor": 0,
  "metadata": {
    "colab": {
      "provenance": [],
      "authorship_tag": "ABX9TyO4PNJsMUoGFXyURvcdfTkW",
      "include_colab_link": true
    },
    "kernelspec": {
      "name": "python3",
      "display_name": "Python 3"
    },
    "language_info": {
      "name": "python"
    }
  },
  "cells": [
    {
      "cell_type": "markdown",
      "metadata": {
        "id": "view-in-github",
        "colab_type": "text"
      },
      "source": [
        "<a href=\"https://colab.research.google.com/github/Blusooyeon/Studying_for_Bigdata_Test/blob/main/T1_13_Correlation.ipynb\" target=\"_parent\"><img src=\"https://colab.research.google.com/assets/colab-badge.svg\" alt=\"Open In Colab\"/></a>"
      ]
    },
    {
      "cell_type": "markdown",
      "source": [
        "### 상관관계 구하기\n",
        "주어진 데이터에서 상관관계를 구하고, quality와의 상관관계가 가장 큰 값과 가장 작은 값을 구한다음 더하시오\n"
      ],
      "metadata": {
        "id": "wCLQBI9X0NLZ"
      }
    },
    {
      "cell_type": "code",
      "execution_count": 1,
      "metadata": {
        "id": "ICzISW7Iz8yt"
      },
      "outputs": [],
      "source": [
        "import pandas as pd\n",
        "import numpy as np\n",
        "\n",
        "df =pd.read_csv('/content/winequality-red.csv')\n"
      ]
    },
    {
      "cell_type": "code",
      "source": [
        "# 상관관계 구하기\n",
        "df_corr = df.corr()\n",
        "df_corr = df_corr[:-1]"
      ],
      "metadata": {
        "id": "eX4KmTpM5_cc"
      },
      "execution_count": 3,
      "outputs": []
    },
    {
      "cell_type": "code",
      "source": [
        "# 상관관계가 가장 큰 값과 가장 작은 값 찾기\n",
        "max = abs(df.corr()['quality'][:-1]).max()\n",
        "min = abs(df.corr()['quality'][:-1]).min()\n",
        "\n",
        "if max not in df.corr()[['quality']][:-1].values:\n",
        "    max=-max\n",
        "if min not in df.corr()[['quality']][:-1].values:\n",
        "    min=-min"
      ],
      "metadata": {
        "id": "5acczo-h6Lkf"
      },
      "execution_count": 6,
      "outputs": []
    },
    {
      "cell_type": "code",
      "source": [
        "# 결과 출력\n",
        "ans = round(max+min,2)\n",
        "print(ans)"
      ],
      "metadata": {
        "colab": {
          "base_uri": "https://localhost:8080/"
        },
        "id": "1c65Plpy6jOl",
        "outputId": "8a564779-e07d-4b0b-f1fc-86c4874036d6"
      },
      "execution_count": 7,
      "outputs": [
        {
          "output_type": "stream",
          "name": "stdout",
          "text": [
            "0.49\n"
          ]
        }
      ]
    },
    {
      "cell_type": "markdown",
      "source": [
        "✅check\n",
        "1. 상관관계 구하기    \n",
        "df_corr = df_corr[:-1] # quailiy-quailiy 상관관계 제거   \n"
      ],
      "metadata": {
        "id": "gICnrRbJ6ZpW"
      }
    }
  ]
}