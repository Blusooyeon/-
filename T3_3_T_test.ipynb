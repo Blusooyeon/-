{
  "nbformat": 4,
  "nbformat_minor": 0,
  "metadata": {
    "colab": {
      "provenance": [],
      "authorship_tag": "ABX9TyN1lcEqTZ5qaYbrdzyAV0lX",
      "include_colab_link": true
    },
    "kernelspec": {
      "name": "python3",
      "display_name": "Python 3"
    },
    "language_info": {
      "name": "python"
    }
  },
  "cells": [
    {
      "cell_type": "markdown",
      "metadata": {
        "id": "view-in-github",
        "colab_type": "text"
      },
      "source": [
        "<a href=\"https://colab.research.google.com/github/Blusooyeon/Studying_for_Bigdata_Test/blob/main/T3_3_T_test.ipynb\" target=\"_parent\"><img src=\"https://colab.research.google.com/assets/colab-badge.svg\" alt=\"Open In Colab\"/></a>"
      ]
    },
    {
      "cell_type": "markdown",
      "source": [
        "####문제: 다음은 22명의 학생들이 국어시험에서 받은 점수이다. 학생들의 평균이 75보다 크다고 할 수 있는가?\n",
        "* 귀무가설(H0): 모평균은 mu와 같다. (μ = mu), 학생들의 평균은 75이다            \n",
        "* 대립가설(H1): 모평균은 mu보다 크다. (μ > mu), 학생들의 평균은 75보다 크다\n",
        "가정:\n",
        "\n",
        "* 모집단은 정규분포를 따른다.\n",
        "* 표본의 크기가 충분히 크다.\n",
        "* 검정통계량, p-value, 검정결과를 출력하시오"
      ],
      "metadata": {
        "id": "DHbGA1sWqdTj"
      }
    },
    {
      "cell_type": "code",
      "execution_count": 12,
      "metadata": {
        "id": "xav1teZNp8PQ"
      },
      "outputs": [],
      "source": [
        "from scipy.stats import ttest_1samp\n",
        "\n",
        "# 데이터\n",
        "scores = [75, 80, 68, 72, 77, 82, 81, 79, 70, 74, 76, 78, 81, 73, 81, 78, 75, 72, 74, 79, 78, 79]"
      ]
    },
    {
      "cell_type": "code",
      "source": [
        "# 모평균, 가설 설정\n",
        "mu = 75\n",
        "alpha = 0.05"
      ],
      "metadata": {
        "id": "ynbko_j7r1bA"
      },
      "execution_count": 13,
      "outputs": []
    },
    {
      "cell_type": "code",
      "source": [
        "# 가설 검정\n",
        "t_statistic, p_value = ttest_1samp(scores, mu, alternative='greater')\n",
        "print(\"검정통계량:\", t_statistic)\n",
        "print(\"p값:\", p_value)"
      ],
      "metadata": {
        "colab": {
          "base_uri": "https://localhost:8080/"
        },
        "id": "0lY5u2cyse5I",
        "outputId": "f40767a8-5fb4-4e90-e25a-295507fda33e"
      },
      "execution_count": 15,
      "outputs": [
        {
          "output_type": "stream",
          "name": "stdout",
          "text": [
            "검정통계량: 1.765879233231226\n",
            "p값: 0.04597614747709146\n"
          ]
        }
      ]
    },
    {
      "cell_type": "code",
      "source": [
        "# 결과 출력\n",
        "if p_value < alpha:\n",
        "    print(\"귀무가설을 기각합니다. 모평균은 75보다 큽니다.\")\n",
        "else:\n",
        "    print(\"귀무가설을 채택합니다. 모평균은 75보다 크지 않습니다.\")"
      ],
      "metadata": {
        "id": "iVEwoYKnv6Vy",
        "outputId": "0d587cfe-c0d9-412e-a4a0-e024799572db",
        "colab": {
          "base_uri": "https://localhost:8080/"
        }
      },
      "execution_count": 16,
      "outputs": [
        {
          "output_type": "stream",
          "name": "stdout",
          "text": [
            "귀무가설을 기각합니다. 모평균은 75보다 큽니다.\n"
          ]
        }
      ]
    }
  ]
}