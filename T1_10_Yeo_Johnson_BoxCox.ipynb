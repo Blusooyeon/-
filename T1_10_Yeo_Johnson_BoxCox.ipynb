{
  "nbformat": 4,
  "nbformat_minor": 0,
  "metadata": {
    "colab": {
      "provenance": [],
      "authorship_tag": "ABX9TyNw8aN0qh5TEK6N1HBgwQxc",
      "include_colab_link": true
    },
    "kernelspec": {
      "name": "python3",
      "display_name": "Python 3"
    },
    "language_info": {
      "name": "python"
    }
  },
  "cells": [
    {
      "cell_type": "markdown",
      "metadata": {
        "id": "view-in-github",
        "colab_type": "text"
      },
      "source": [
        "<a href=\"https://colab.research.google.com/github/Blusooyeon/Studying_for_Bigdata_Test/blob/main/T1_10_Yeo_Johnson_BoxCox.ipynb\" target=\"_parent\"><img src=\"https://colab.research.google.com/assets/colab-badge.svg\" alt=\"Open In Colab\"/></a>"
      ]
    },
    {
      "cell_type": "markdown",
      "source": [
        "### 수치형 변수 변환하기\n",
        "주어진 데이터에서 20세 이상인 데이터를 추출하고 'f1'컬럼을 결측치를 최빈값으로 채운 후, f1 컬럼의 여-존슨과 박스콕스 변환 값을 구하고, 두 값의 차이를 절대값으로 구한다음 모두 더해 소수점 둘째 자리까지 출력(반올림)하시오\n"
      ],
      "metadata": {
        "id": "8sGG7gV9rQ4a"
      }
    },
    {
      "cell_type": "code",
      "execution_count": 1,
      "metadata": {
        "id": "PvuL1hfXrHlr"
      },
      "outputs": [],
      "source": [
        "import pandas as pd\n",
        "import numpy as np\n",
        "\n",
        "df = pd.read_csv('/content/basic1.csv')"
      ]
    },
    {
      "cell_type": "code",
      "source": [
        "# 조건에 맞는 데이터 추출\n",
        "df = df[df['age']>=20]"
      ],
      "metadata": {
        "id": "tLrq5gZ-rxKo"
      },
      "execution_count": 2,
      "outputs": []
    },
    {
      "cell_type": "code",
      "source": [
        "# 최빈값으로 'f1' 컬럼 결측치 대체\n",
        "print(\"최빈값: \", df['f1'].mode()[0])\n",
        "df['f1'] = df['f1'].fillna(df['f1'].mode()[0])"
      ],
      "metadata": {
        "colab": {
          "base_uri": "https://localhost:8080/"
        },
        "id": "XPlCODd7r9Rs",
        "outputId": "eff1d28e-9a9c-4157-8092-a94fb0fda0c0"
      },
      "execution_count": 3,
      "outputs": [
        {
          "output_type": "stream",
          "name": "stdout",
          "text": [
            "최빈값:  50.0\n"
          ]
        }
      ]
    },
    {
      "cell_type": "code",
      "source": [
        "# 여-존슨 값 구하기\n",
        "from sklearn.preprocessing import power_transform\n",
        "df['y'] = power_transform(df[['f1']],standardize =False)\n",
        "df['y'].head()"
      ],
      "metadata": {
        "colab": {
          "base_uri": "https://localhost:8080/"
        },
        "id": "WCPR_PLtsYXf",
        "outputId": "08b38598-8df2-4852-b225-b72617c924f3"
      },
      "execution_count": 13,
      "outputs": [
        {
          "output_type": "execute_result",
          "data": {
            "text/plain": [
              "2    20.583423\n",
              "3    17.968081\n",
              "4    25.773745\n",
              "5    19.653167\n",
              "6    20.352915\n",
              "Name: y, dtype: float64"
            ]
          },
          "metadata": {},
          "execution_count": 13
        }
      ]
    },
    {
      "cell_type": "code",
      "source": [
        "# box-cox 값 구하기\n",
        "df['b'] = power_transform(df[['f1']], method = 'box-cox',standardize =False)\n",
        "df['b'].head()"
      ],
      "metadata": {
        "colab": {
          "base_uri": "https://localhost:8080/"
        },
        "id": "JkPdvwl4soR1",
        "outputId": "6f69e553-bff9-4342-8b73-daf3b54a029a"
      },
      "execution_count": 14,
      "outputs": [
        {
          "output_type": "execute_result",
          "data": {
            "text/plain": [
              "2    21.067090\n",
              "3    18.305263\n",
              "4    26.557680\n",
              "5    20.084373\n",
              "6    20.823545\n",
              "Name: b, dtype: float64"
            ]
          },
          "metadata": {},
          "execution_count": 14
        }
      ]
    },
    {
      "cell_type": "code",
      "source": [
        "# 결과 출력\n",
        "round(sum(np.abs(df['y']-df['b'])),2)\n"
      ],
      "metadata": {
        "colab": {
          "base_uri": "https://localhost:8080/"
        },
        "id": "oB9nXbYXtYZW",
        "outputId": "c34d25b6-2660-44b4-cf11-a0e2e12c5953"
      },
      "execution_count": 15,
      "outputs": [
        {
          "output_type": "execute_result",
          "data": {
            "text/plain": [
              "39.17"
            ]
          },
          "metadata": {},
          "execution_count": 15
        }
      ]
    },
    {
      "cell_type": "markdown",
      "source": [
        "✅Check !\n",
        "1. 출제 가능성은 낮지만 알아두기     \n",
        "2. from sklearn.preprocessing import power_transform       \n",
        "3. method 디폴트 값은 여-존슨     \n",
        "4. 최빈값은 컬럼.mode()[0]"
      ],
      "metadata": {
        "id": "Ay15Fu7QttoJ"
      }
    }
  ]
}