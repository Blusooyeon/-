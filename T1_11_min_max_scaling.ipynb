{
  "nbformat": 4,
  "nbformat_minor": 0,
  "metadata": {
    "colab": {
      "provenance": [],
      "authorship_tag": "ABX9TyNF6vmLeNV2Y2PGWwjqtj+i",
      "include_colab_link": true
    },
    "kernelspec": {
      "name": "python3",
      "display_name": "Python 3"
    },
    "language_info": {
      "name": "python"
    }
  },
  "cells": [
    {
      "cell_type": "markdown",
      "metadata": {
        "id": "view-in-github",
        "colab_type": "text"
      },
      "source": [
        "<a href=\"https://colab.research.google.com/github/Blusooyeon/Studying_for_Bigdata_Test/blob/main/T1_11_min_max_scaling.ipynb\" target=\"_parent\"><img src=\"https://colab.research.google.com/assets/colab-badge.svg\" alt=\"Open In Colab\"/></a>"
      ]
    },
    {
      "cell_type": "markdown",
      "source": [
        "### min-max 스케일링 기준 상하위 5% 구하기\n",
        "주어진 데이터에서 'f5' 컬럼을 min-max 스케일 변환한 후 , 상위 5%와 하위 5% 값의 합을 구하시오 !\n"
      ],
      "metadata": {
        "id": "a6H2_GtTu-6R"
      }
    },
    {
      "cell_type": "code",
      "execution_count": 1,
      "metadata": {
        "id": "ZOd62bGnuK_r"
      },
      "outputs": [],
      "source": [
        "import numpy as np\n",
        "import pandas as pd\n",
        "\n",
        "df= pd.read_csv('/content/basic1.csv')"
      ]
    },
    {
      "cell_type": "code",
      "source": [
        " # min-max scale\n",
        "from sklearn.preprocessing import MinMaxScaler\n",
        "scaler = MinMaxScaler()\n",
        "df['f5'] =scaler.fit_transform(df[['f5']])\n",
        "df['f5'].head()"
      ],
      "metadata": {
        "colab": {
          "base_uri": "https://localhost:8080/"
        },
        "id": "kb8ZQgs-wE3L",
        "outputId": "f04f5e2a-45a6-4b89-a3fc-a95e30af8824"
      },
      "execution_count": 4,
      "outputs": [
        {
          "output_type": "execute_result",
          "data": {
            "text/plain": [
              "0    0.919533\n",
              "1    0.570252\n",
              "2    0.084129\n",
              "3    0.483685\n",
              "4    0.219708\n",
              "Name: f5, dtype: float64"
            ]
          },
          "metadata": {},
          "execution_count": 4
        }
      ]
    },
    {
      "cell_type": "code",
      "source": [
        "# 하위, 상위 5% 값 구하기\n",
        "lower = df['f5'].quantile(0.05)\n",
        "print(lower)\n",
        "\n",
        "upper = df['f5'].quantile(0.95)\n",
        "print(upper)\n",
        "print(lower+upper)\n"
      ],
      "metadata": {
        "colab": {
          "base_uri": "https://localhost:8080/"
        },
        "id": "3U9cCm1YwzhF",
        "outputId": "e6c2d14d-f71d-4579-acfd-c8581d9a573f"
      },
      "execution_count": 6,
      "outputs": [
        {
          "output_type": "stream",
          "name": "stdout",
          "text": [
            "0.03670782406038746\n",
            "0.9881662742993513\n",
            "1.0248740983597389\n"
          ]
        }
      ]
    },
    {
      "cell_type": "markdown",
      "source": [
        "✅Check!       \n",
        "1. min-max scale         \n",
        "from sklearn.preprocessing import MinMaxScaler\n",
        "scaler = MinMaxScaler()\n",
        "2. scaler.fit_transform(df[['f5']]) 할때 대괄호 두개 해주기 !"
      ],
      "metadata": {
        "id": "vC2Wk97LxFlw"
      }
    }
  ]
}