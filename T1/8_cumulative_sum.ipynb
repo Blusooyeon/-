{
  "nbformat": 4,
  "nbformat_minor": 0,
  "metadata": {
    "colab": {
      "provenance": [],
      "authorship_tag": "ABX9TyMkcNHhfl2cm0/2cpEgDkNp",
      "include_colab_link": true
    },
    "kernelspec": {
      "name": "python3",
      "display_name": "Python 3"
    },
    "language_info": {
      "name": "python"
    }
  },
  "cells": [
    {
      "cell_type": "markdown",
      "metadata": {
        "id": "view-in-github",
        "colab_type": "text"
      },
      "source": [
        "<a href=\"https://colab.research.google.com/github/Blusooyeon/Studying_for_Bigdata_Test/blob/main/T1_8_cumulative_sum.ipynb\" target=\"_parent\"><img src=\"https://colab.research.google.com/assets/colab-badge.svg\" alt=\"Open In Colab\"/></a>"
      ]
    },
    {
      "cell_type": "markdown",
      "source": [
        "### 누적합 그리고 보간(결측치 처리)\n",
        "주어진 데이터 셋에서 'f2' 컬럼이 1인 조건에 해당하는 데이터의 'f1'컬럼 누적합을 계산한다. 이때 발생하는 누적합 결측치는 바로 뒤의 값을 채우고, 누적합의 평균값을 출력한다. (단, 결측치 바로 뒤의 값이 없으면 다음에 나오는 값을 채워넣는다)"
      ],
      "metadata": {
        "id": "fvkAEigUcVxq"
      }
    },
    {
      "cell_type": "code",
      "execution_count": 2,
      "metadata": {
        "id": "5hi7R7J5cIO3"
      },
      "outputs": [],
      "source": [
        "import pandas as pd\n",
        "import numpy as np\n",
        "\n",
        "df= pd.read_csv('/content/basic1.csv')"
      ]
    },
    {
      "cell_type": "code",
      "source": [
        "# 조건에 따른 누적합\n",
        "df2 = df[df['f2']==1]['f1'].cumsum()\n",
        "df2"
      ],
      "metadata": {
        "colab": {
          "base_uri": "https://localhost:8080/"
        },
        "id": "blcxi95yc2Ck",
        "outputId": "cf966448-2f8c-4a72-9861-eaf8be14f85b"
      },
      "execution_count": 3,
      "outputs": [
        {
          "output_type": "execute_result",
          "data": {
            "text/plain": [
              "1       70.0\n",
              "2      131.0\n",
              "6      191.0\n",
              "7      292.0\n",
              "9      366.0\n",
              "13     416.0\n",
              "14     483.0\n",
              "16       NaN\n",
              "19     534.0\n",
              "20       NaN\n",
              "21     606.0\n",
              "22     681.0\n",
              "25     738.0\n",
              "27     772.0\n",
              "33       NaN\n",
              "35     849.0\n",
              "37       NaN\n",
              "46     924.0\n",
              "49    1002.0\n",
              "51    1084.0\n",
              "53       NaN\n",
              "55       NaN\n",
              "58       NaN\n",
              "62    1170.0\n",
              "65       NaN\n",
              "66    1222.0\n",
              "69    1318.0\n",
              "72       NaN\n",
              "77    1414.0\n",
              "80    1464.0\n",
              "82    1514.0\n",
              "86       NaN\n",
              "88    1580.0\n",
              "91    1658.0\n",
              "93       NaN\n",
              "94    1701.0\n",
              "95    1754.0\n",
              "Name: f1, dtype: float64"
            ]
          },
          "metadata": {},
          "execution_count": 3
        }
      ]
    },
    {
      "cell_type": "code",
      "source": [
        "#결측치 처리 ( 뒤에 나오는 값으로 채움)\n",
        "df2 = df2.fillna(method = 'bfill')\n",
        "df2"
      ],
      "metadata": {
        "colab": {
          "base_uri": "https://localhost:8080/"
        },
        "id": "iDQrOCZxc8ax",
        "outputId": "bd241df6-3274-46ab-bb4e-64d06ee3b5ce"
      },
      "execution_count": 4,
      "outputs": [
        {
          "output_type": "execute_result",
          "data": {
            "text/plain": [
              "1       70.0\n",
              "2      131.0\n",
              "6      191.0\n",
              "7      292.0\n",
              "9      366.0\n",
              "13     416.0\n",
              "14     483.0\n",
              "16     534.0\n",
              "19     534.0\n",
              "20     606.0\n",
              "21     606.0\n",
              "22     681.0\n",
              "25     738.0\n",
              "27     772.0\n",
              "33     849.0\n",
              "35     849.0\n",
              "37     924.0\n",
              "46     924.0\n",
              "49    1002.0\n",
              "51    1084.0\n",
              "53    1170.0\n",
              "55    1170.0\n",
              "58    1170.0\n",
              "62    1170.0\n",
              "65    1222.0\n",
              "66    1222.0\n",
              "69    1318.0\n",
              "72    1414.0\n",
              "77    1414.0\n",
              "80    1464.0\n",
              "82    1514.0\n",
              "86    1580.0\n",
              "88    1580.0\n",
              "91    1658.0\n",
              "93    1701.0\n",
              "94    1701.0\n",
              "95    1754.0\n",
              "Name: f1, dtype: float64"
            ]
          },
          "metadata": {},
          "execution_count": 4
        }
      ]
    },
    {
      "cell_type": "code",
      "source": [
        "print(df2.mean())"
      ],
      "metadata": {
        "colab": {
          "base_uri": "https://localhost:8080/"
        },
        "id": "dJKuUNpBdDrl",
        "outputId": "6eca357b-8cc2-43dd-c016-c3208a245155"
      },
      "execution_count": 5,
      "outputs": [
        {
          "output_type": "stream",
          "name": "stdout",
          "text": [
            "980.3783783783783\n"
          ]
        }
      ]
    },
    {
      "cell_type": "markdown",
      "source": [
        "✅check\n",
        "1. 누적합     \n",
        "df[df['f2']==1]['f1'].cumsum()\n",
        "2. 결측치를 뒤에 나오는 값으로 채움     \n",
        "df2.fillna(method = 'bfill')"
      ],
      "metadata": {
        "id": "jQ5KMjzrdGkA"
      }
    }
  ]
}
