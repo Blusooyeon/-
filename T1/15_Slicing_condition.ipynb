{
  "nbformat": 4,
  "nbformat_minor": 0,
  "metadata": {
    "colab": {
      "provenance": [],
      "authorship_tag": "ABX9TyOPHNOhhOfhMIuhpKcd4oD/",
      "include_colab_link": true
    },
    "kernelspec": {
      "name": "python3",
      "display_name": "Python 3"
    },
    "language_info": {
      "name": "python"
    }
  },
  "cells": [
    {
      "cell_type": "markdown",
      "metadata": {
        "id": "view-in-github",
        "colab_type": "text"
      },
      "source": [
        "<a href=\"https://colab.research.google.com/github/Blusooyeon/Studying_for_Bigdata_Test/blob/main/T1_15_Slicing_condition.ipynb\" target=\"_parent\"><img src=\"https://colab.research.google.com/assets/colab-badge.svg\" alt=\"Open In Colab\"/></a>"
      ]
    },
    {
      "cell_type": "markdown",
      "source": [
        "주어진 데이터 셋에서 age컬럼 상위 20개의 데이터를 구한 다음         \n",
        "f1의 결측치를 중앙값으로 채운다.           \n",
        "그리고 f4가 ISFJ와 f5가 20 이상인\n",
        "f1의 평균값을 출력하시오!"
      ],
      "metadata": {
        "id": "FrODHGXx8eV-"
      }
    },
    {
      "cell_type": "code",
      "execution_count": 1,
      "metadata": {
        "id": "2_CHtRf78aW8"
      },
      "outputs": [],
      "source": [
        "import pandas as pd\n",
        "import numpy as np\n",
        "\n",
        "df = pd.read_csv('/content/basic2.csv')"
      ]
    },
    {
      "cell_type": "code",
      "source": [
        "# 나이 순 (내림차순) 정렬\n",
        "df = df.sort_values('age', ascending=False).reset_index(drop=True)\n",
        "print(df)"
      ],
      "metadata": {
        "colab": {
          "base_uri": "https://localhost:8080/"
        },
        "id": "7L62j49D8wy7",
        "outputId": "2262bd4d-3b0d-43a4-ed4a-9cb13a49661f"
      },
      "execution_count": 2,
      "outputs": [
        {
          "output_type": "stream",
          "name": "stdout",
          "text": [
            "      id    age city     f1  f2   f3    f4         f5\n",
            "0   id97  100.0   경기    NaN   0  NaN  INFP  67.886373\n",
            "1   id37  100.0   부산    NaN   0  NaN  ESTP  33.308999\n",
            "2   id45   97.0   대구   88.0   0  NaN  ENFJ  13.049921\n",
            "3   id52   97.0   대구   82.0   1  NaN  ISFJ  90.496999\n",
            "4   id92   97.0   경기   78.0   1  NaN  INFP  97.381034\n",
            "..   ...    ...  ...    ...  ..  ...   ...        ...\n",
            "95  id99    1.0   경기   47.0   0  NaN  ESFJ  97.381034\n",
            "96  id58    0.0   대구  100.0   2  NaN  ESTP  33.308999\n",
            "97  id22   -6.3   부산   72.0   1  NaN  ENFP  52.667078\n",
            "98  id70   -9.0   경기   96.0   1  NaN  ISTP  48.431184\n",
            "99  id29  -13.5   부산   47.0   2  NaN  ENTP  67.886373\n",
            "\n",
            "[100 rows x 8 columns]\n"
          ]
        }
      ]
    },
    {
      "cell_type": "code",
      "source": [
        "# 상위 20개 슬라이싱\n",
        "df = df[:20]\n",
        "print(df)"
      ],
      "metadata": {
        "colab": {
          "base_uri": "https://localhost:8080/"
        },
        "id": "UF-RrsSH9D_9",
        "outputId": "01b370d9-89a8-4a6d-a898-887ad936735a"
      },
      "execution_count": 3,
      "outputs": [
        {
          "output_type": "stream",
          "name": "stdout",
          "text": [
            "      id    age city    f1  f2   f3    f4         f5\n",
            "0   id97  100.0   경기   NaN   0  NaN  INFP  67.886373\n",
            "1   id37  100.0   부산   NaN   0  NaN  ESTP  33.308999\n",
            "2   id45   97.0   대구  88.0   0  NaN  ENFJ  13.049921\n",
            "3   id52   97.0   대구  82.0   1  NaN  ISFJ  90.496999\n",
            "4   id92   97.0   경기  78.0   1  NaN  INFP  97.381034\n",
            "5   id10   95.0   서울  74.0   1  NaN  ISFP  98.429899\n",
            "6   id46   93.0   대구   NaN   0  NaN  ESTJ  67.886373\n",
            "7   id78   92.0   경기  96.0   1  NaN  INTJ  69.730313\n",
            "8   id96   92.0   경기  53.0   1  NaN  ENTJ  52.667078\n",
            "9   id73   90.0   경기   NaN   1  NaN  ISFJ  73.586397\n",
            "10  id21   90.0   부산   NaN   1  NaN  ISFP  29.269869\n",
            "11  id88   89.0   경기  75.0   0  NaN  ESTJ  60.339826\n",
            "12  id63   88.0   경기  86.0   1  NaN  ISFJ  73.586397\n",
            "13  id66   87.0   경기   NaN   1  NaN  ISFP  17.252986\n",
            "14  id38   87.0   부산   NaN   1  NaN  ESTP  83.685380\n",
            "15  id61   87.0   경기  62.0   2  NaN  INTP  69.730313\n",
            "16  id50   86.0   대구  78.0   1  NaN  ENFP  60.339826\n",
            "17  id81   86.0   경기  50.0   1  NaN  ISFJ  37.113739\n",
            "18  id31   86.0   부산  77.0   0  NaN  ESFJ  73.586397\n",
            "19  id94   84.0   경기   NaN   1  NaN  ESTJ  90.496999\n"
          ]
        }
      ]
    },
    {
      "cell_type": "code",
      "source": [
        "# 결측치 채우기\n",
        "df['f1'] = df['f1'].fillna(df['f1'].median())"
      ],
      "metadata": {
        "id": "t5t2xf7I9JMm"
      },
      "execution_count": 4,
      "outputs": []
    },
    {
      "cell_type": "code",
      "source": [
        "# 조건 만족하는 값들의 평균 구하기\n",
        "df[(df['f4']=='ISFJ') & (df['f5'] >= 20)]['f1'].mean()"
      ],
      "metadata": {
        "colab": {
          "base_uri": "https://localhost:8080/"
        },
        "id": "G__f8hWN9O8A",
        "outputId": "e86ad9cf-b6e1-4bd7-d45f-88192cb8c04a"
      },
      "execution_count": 5,
      "outputs": [
        {
          "output_type": "execute_result",
          "data": {
            "text/plain": [
              "73.875"
            ]
          },
          "metadata": {},
          "execution_count": 5
        }
      ]
    },
    {
      "cell_type": "markdown",
      "source": [
        "✅check\n",
        "1. 슬라이싱     \n",
        "df[:20] 상위 20개"
      ],
      "metadata": {
        "id": "oBVVgqfS9g11"
      }
    }
  ]
}
